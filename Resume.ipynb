{
 "cells": [
  {
   "attachments": {},
   "cell_type": "markdown",
   "metadata": {},
   "source": [
    "# Importing library to parse PDF file"
   ]
  },
  {
   "attachments": {},
   "cell_type": "markdown",
   "metadata": {},
   "source": [
    "#### Often, I have to rewrite my resume to fit the job I am applying for. This is time-consuming but a necessary one to stand out in job searches. I found a way to automated the restructure of my resume to fit whichever type of job I am applying for.  To do this I've incorported a Python libary to extract the text from my PDF. The text is fed into OpenAIs \"davinci-001\" model to edit text. "
   ]
  },
  {
   "cell_type": "code",
   "execution_count": 16,
   "metadata": {},
   "outputs": [
    {
     "name": "stdout",
     "output_type": "stream",
     "text": [
      "#Echo #Diaz\n",
      "\n",
      "PROFESSIONAL HISTORY:\n",
      "##DevOps Engineer, IT · SYMANTEC, CARLSBAD, CA · JUN 2018 - DEC 2020\n",
      "Created automation scripts to maintain legacy PHP and MySQL databases, enabling working applications on different versions of PHP and MySQL.\n",
      "Developed playbooks for IDS networks on Red Hat Linux for a Fortune 100 company.\n",
      "Managed daily operations and maintenance of a multi-site production environment including firewall and router configurations.\n",
      "Championed and coached our Technical Writers to meet OKRs and achieve personal development goals.\n",
      "Created, implemented and documented processes for cross-department teams so they could rapidly execute deliverables, and pushed acceptance of standard methods to improve ongoing collaboration efforts.\n",
      "\n",
      "##QUALITY DOCUMENTATION ANALYST | TECHNICAL WRITER III, EDUCATION · A CLOUD GURU, AUSTIN, TX · JUN 2019 - DEC 2020  \n",
      "\n",
      "Learned subject matter of vendor services by earning multiple cloud certifications (AWS, Azure, Python, Red Hat)\n",
      "Resolved bottlenecks in content publication process by troubleshooting Content Operations departmental apps, tools and services\n",
      "Drafted and copy edited technical documents in multiple programmatic\n",
      "languages to produce content, updated the documentation style and worked remotely with team members to create documentation that aligned with our andragogical principles.\n",
      "Collaborated closely with subject matter experts to apply instructional design of major cloud vendors services.\n",
      "Troubleshot hands-on lab that used mixed technology including Golang, Chef, Ansible, Bash and Docker.\n",
      "Collaborated with Technical Architects to establish best practices and standards when authoring content.\n",
      "\n",
      "CERTIFICATIONS:\n",
      "\n",
      "* Unix/Linux Administration\n",
      "* Certified Associates Python Programmer \n",
      "* AWS Certified Solutions Architect Associate \n",
      "* Red Hat Certified System Administrator \n",
      "* AZ-900: Microsoft Azure Fundamentals\n",
      "* Network +\n",
      "* Bachelor of Arts, Political Science and Latin American Studies, University of California at Berkeley\n",
      "* Phoenix Academy Magnet Elementary (Honors)\n",
      "\n",
      "Languages: Python3 | JSON | YAML | MD | PHP | CSS | HTML | JAVA | Jupyter Notebooks | Anaconda | AWS CLI | AWS SDK | LAMBDA\n",
      "Linux | Terminal | Bash | Visual\n",
      "Studio Code | PHP/MYSQL | Microsoft Office\n",
      "Asana | JIRA | Salesforce |\n",
      "Zendesk | GitHub Actions\n",
      "Microsoft Office | Google Suite |\n",
      "Slack | Technical Support | Customer Service\n",
      "CLOUD SITES SUPPORT TECHNICIAN\n",
      "Rackspace\n",
      "June 2014 - June 2018\n",
      "Utilized the Linux Bash Shell on a daily basis to extract data and perform\n",
      "Linux admin tasks for customers\n",
      "Strong understanding of our SaaS platform and weekly stand ups to\n",
      "discuss customer solutions with engineering\n",
      "Outstanding troubleshooting skills in determining external or internal\n",
      "infrastructure issues\n",
      "\n"
     ]
    }
   ],
   "source": [
    "\n",
    "from PyPDF2 import PdfReader\n",
    "import os\n",
    "import openai\n",
    "\n",
    "openai.organization = \"org-0aNPFamIccXR5GLzwT5O1kCO\"\n",
    "openai.api_key = os.getenv(\"OPENAI_API_KEY\")\n",
    "\n",
    "reader = PdfReader(\"EchoDiazResume.pdf\")\n",
    "page=reader.pages[0]\n",
    "resume_text = page.extract_text()\n",
    "\n",
    "\n",
    "output = openai.Edit.create(\n",
    "  model=\"text-davinci-edit-001\",\n",
    "  input=resume_text,\n",
    "  instruction=\"Rewrite this resume to fit a DevOps Engineer role that I will apply for\"\n",
    ")\n",
    "\n",
    "print(output[\"choices\"][0][\"text\"])"
   ]
  },
  {
   "cell_type": "code",
   "execution_count": null,
   "metadata": {},
   "outputs": [],
   "source": []
  }
 ],
 "metadata": {
  "kernelspec": {
   "display_name": "OpenAPI",
   "language": "python",
   "name": "python3"
  },
  "language_info": {
   "codemirror_mode": {
    "name": "ipython",
    "version": 3
   },
   "file_extension": ".py",
   "mimetype": "text/x-python",
   "name": "python",
   "nbconvert_exporter": "python",
   "pygments_lexer": "ipython3",
   "version": "3.10.9"
  },
  "orig_nbformat": 4,
  "vscode": {
   "interpreter": {
    "hash": "33284dc24c8d1f52a9a5353d676a36b183f8019e094e9781198f7fcab027ec28"
   }
  }
 },
 "nbformat": 4,
 "nbformat_minor": 2
}
