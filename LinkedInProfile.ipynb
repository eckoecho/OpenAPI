{
 "cells": [
  {
   "attachments": {},
   "cell_type": "markdown",
   "metadata": {},
   "source": [
    "## Importing in libraries and variables for OpenAPI"
   ]
  },
  {
   "attachments": {},
   "cell_type": "markdown",
   "metadata": {},
   "source": [
    "### <mark>Below is an example of OpenAI correcting typos my LinkedIn profile description.</mark>"
   ]
  },
  {
   "cell_type": "code",
   "execution_count": 9,
   "metadata": {},
   "outputs": [
    {
     "name": "stdout",
     "output_type": "stream",
     "text": [
      "To make your changes take effect please reactivate your environment\n",
      "I'm comfortable leading a large team of skilled technical writers, from novice to seniors, through our content creation process. \n",
      "\n",
      "In this fast-paced course publication process, I use my Solution Architect knowledge to review the accuracy of fundamentals to guru-level cloud certifications including AWS, Google, and Azure content. I create tools using Python and APIs to extract decision-making statistics used by our Project Management team. \n",
      "\n",
      "What fuels me on a work day? Opportunities to take on big challenges of wide influence. I enjoy blending my tech savvy knowledge with my soft skills to create and refine efficient departmental processes.\n",
      "\n"
     ]
    }
   ],
   "source": [
    "import os\n",
    "import openai\n",
    "\n",
    "\n",
    "openai.organization = \"org-0aNPFamIccXR5GLzwT5O1kCO\"\n",
    "openai.api_key = os.getenv(\"OPENAI_API_KEY\")\n",
    "\n",
    "output = openai.Edit.create(\n",
    "  model=\"text-davinci-edit-001\",\n",
    "  input=\"I'm comfortable leading a large team of skilled technical writers, from novice to seniors, through our content creation process. In this fast-pace course publication process, I use my Solution Architect knowledge to review the accuracy of fundamentals to guru-level cloud certifications including AWS, Google, and Azure content. I create tools using Python and APIs to extract decision-making statistics used by our Project Management team. What fuels me on a work day? Opportunities to take on big challenges of wide influence. I enjoy blending my tech savvy knowledge with my soft skills to create and refine efficient departmental processes.\",\n",
    "  instruction=\"Fix the spelling mistakes\"\n",
    ")\n",
    "\n",
    "print(output[\"choices\"][0][\"text\"])\n"
   ]
  },
  {
   "attachments": {},
   "cell_type": "markdown",
   "metadata": {},
   "source": [
    "### <mark>Asking OpenAI how i could improve my LinkedIn profile description</mark>"
   ]
  },
  {
   "cell_type": "code",
   "execution_count": 10,
   "metadata": {},
   "outputs": [
    {
     "name": "stdout",
     "output_type": "stream",
     "text": [
      "To make your changes take effect please reactivate your environment\n",
      "I'm comfortable leading a large team of skilled technical writers, from novice to seniors, through our content creation process. In this fast-pace course publication process, I use my Solution Architect knowledge to review the accuracy of fundamentals to guru-level cloud certifications including AWS, Google, and Azure content. I create tools using Python and APIs to extract decision-making statistics used by our Project Management team. What fuels me on a work day? Opportunities to take on big challenges of wide influence. I enjoy blending my tech savvy knowledge with my soft skills to create and refine efficient departmental processes.\n",
      "\n",
      "\n",
      "Or it could be something like:\n",
      "\n",
      "I'm comfortable working with large teams. My experience includes positions from apprentice developer to lead systems engineer. As a senior technical writer, I used my Solution Architect knowledge to review the accuracy of our fundamentals to guru-level cloud certifications including AWS, Google, and Azure content. I enjoy the process of creating and refining efficient departmental processes.\n",
      "\n"
     ]
    }
   ],
   "source": [
    "import os\n",
    "import openai\n",
    "\n",
    "\n",
    "openai.organization = \"org-0aNPFamIccXR5GLzwT5O1kCO\"\n",
    "openai.api_key = os.getenv(\"OPENAI_API_KEY\")\n",
    "\n",
    "output = openai.Edit.create(\n",
    "  model=\"text-davinci-edit-001\",\n",
    "  input=\"I'm comfortable leading a large team of skilled technical writers, from novice to seniors, through our content creation process. In this fast-pace course publication process, I use my Solution Architect knowledge to review the accuracy of fundamentals to guru-level cloud certifications including AWS, Google, and Azure content. I create tools using Python and APIs to extract decision-making statistics used by our Project Management team. What fuels me on a work day? Opportunities to take on big challenges of wide influence. I enjoy blending my tech savvy knowledge with my soft skills to create and refine efficient departmental processes.\",\n",
    "  instruction=\"Make suggestions on what to add\"\n",
    ")\n",
    "\n",
    "print(output[\"choices\"][0][\"text\"])\n"
   ]
  },
  {
   "attachments": {},
   "cell_type": "markdown",
   "metadata": {},
   "source": [
    "### <mark>I then put the output of OpenAIs suggestion through the model to match a the Technical Writing Manager role.</mark>"
   ]
  },
  {
   "cell_type": "code",
   "execution_count": 11,
   "metadata": {},
   "outputs": [
    {
     "name": "stdout",
     "output_type": "stream",
     "text": [
      "To make your changes take effect please reactivate your environment\n",
      "I love challenging the status-quo! I enjoy bringing my technical knowledge to directly impact engineering teams. And making organizational improvements with feedback from my team of subject matter experts. Where did I gain these skills? \n",
      "\n",
      "As senior lead instructor, I had to strike a balance between an organization's strategy, our content strategy needs, and my diverse team members' needs. I mentored our content strategists on topics like the nuances of each AWS service; the details seen in an exam, but often not taught in bootcamps. I lead a team that researched and developed 4 course curriculums. I took a lead role in developing a workflow to test and edit each course from our content strategists. \n",
      "\n"
     ]
    }
   ],
   "source": [
    "import os\n",
    "import openai\n",
    "\n",
    "\n",
    "openai.organization = \"org-0aNPFamIccXR5GLzwT5O1kCO\"\n",
    "openai.api_key = os.getenv(\"OPENAI_API_KEY\")\n",
    "\n",
    "output = openai.Edit.create(\n",
    "  model=\"text-davinci-edit-001\",\n",
    "  input=\"I'm comfortable leading a large team of skilled technical writers, from novice to seniors, through our content creation process. In this fast-pace course publication process, I use my Solution Architect knowledge to review the accuracy of fundamentals to guru-level cloud certifications including AWS, Google, and Azure content. I create tools using Python and APIs to extract decision-making statistics used by our Project Management team. What fuels me on a work day? Opportunities to take on big challenges of wide influence. I enjoy blending my tech savvy knowledge with my soft skills to create and refine efficient departmental processes.\",\n",
    "  instruction=\"Tailor this to match the qualifications of a Technical Writing Manager\"\n",
    ")\n",
    "\n",
    "print(output[\"choices\"][0][\"text\"])\n"
   ]
  },
  {
   "cell_type": "code",
   "execution_count": 3,
   "metadata": {},
   "outputs": [
    {
     "name": "stdout",
     "output_type": "stream",
     "text": [
      "To make your changes take effect please reactivate your environment\n",
      "I foster a fun, driven environment where each Technical Writer is empowered to have ownership of their writing projects. As project manager, I guide Technical Writers through all stages of the writing process. I use my Solution Architect knowledge to review the accuracy of fundamentals to guru-level cloud certifications including AWS, Google, and Azure content. I create tools using Python and APIs to extract decision-making statistics used by our Project Management team. And, as we continually push out new technical resources day by day, I'm also able to orchestrate divisional sharing of best practices. I'm also always ready to jump on challenges of wide influence, taking advantage of opportunities to blend my tech savvy knowledge with my soft skills to create and refine efficient departmental processes.\n",
      "\n"
     ]
    }
   ],
   "source": [
    "import os\n",
    "import openai\n",
    "\n",
    "\n",
    "openai.organization = \"org-0aNPFamIccXR5GLzwT5O1kCO\"\n",
    "openai.api_key = os.getenv(\"OPENAI_API_KEY\")\n",
    "\n",
    "output = openai.Edit.create(\n",
    "  model=\"text-davinci-edit-001\",\n",
    "  input=\"I'm comfortable leading a large team of skilled technical writers, from novice to seniors, through our content creation process. In this fast-pace course publication process, I use my Solution Architect knowledge to review the accuracy of fundamentals to guru-level cloud certifications including AWS, Google, and Azure content. I create tools using Python and APIs to extract decision-making statistics used by our Project Management team. What fuels me on a work day? Opportunities to take on big challenges of wide influence. I enjoy blending my tech savvy knowledge with my soft skills to create and refine efficient departmental processes.\",\n",
    "  instruction=\"Improve this writing to match the qualifications of a Technical Writing Manager\"\n",
    ")\n",
    "\n",
    "print(output[\"choices\"][0][\"text\"])"
   ]
  },
  {
   "attachments": {},
   "cell_type": "markdown",
   "metadata": {},
   "source": [
    "### <mark> I rewrote my LinkedIn description using a mash up of OpenAI results</mark>\n",
    "I foster a fun, driven environment where each technical writer is empowered to have ownership of their writing projects. I mentor skilled technical writers, from novice to seniors, through all stages of the writing process. I use my Solution Architect knowledge to review the accuracy of fundamentals to guru-level cloud certifications including AWS, Google, and Azure content. I create tools using Python and APIs to extract decision-making statistics used by our Project Management team. And, as we continually push out new technical resources day by day, I'm also able to orchestrate divisional sharing of best practices. I'm also always ready to jump on challenges of wide influence, taking advantage of opportunities to blend my tech savvy knowledge with my soft skills to create and refine efficient departmental processes."
   ]
  },
  {
   "cell_type": "markdown",
   "metadata": {},
   "source": [
    "### <mark> The output seemed rigid, so I asked the model to rewrite using third-person.</mark>"
   ]
  },
  {
   "cell_type": "code",
   "execution_count": 10,
   "metadata": {},
   "outputs": [
    {
     "name": "stdout",
     "output_type": "stream",
     "text": [
      "To make your changes take effect please reactivate your environment\n",
      "Echo moulds companies that develop quality, driven environments. Each valuable technical writer is given autonomy over their writing projects. As an experience and skilled technical writer, Echo has mentored others throughout the entire writing process. She also demonstrates her Solution Architect knowledge to review cloud certifications content for AWS, Google, and Azure. Echo creates tools using Python and APIs. Tese tools facilitate Project Managers' use of decision-making statistics. As her department continually releases technical resources day by day, Echo coordinates the exchange of best practices between Cloud Academy departments. Echo often tackles challenges of wide influence, blending worldly knowledge with soft skills to create and refine as many departmental processes as she can.\n",
      "\n"
     ]
    }
   ],
   "source": [
    "import os\n",
    "import openai\n",
    "\n",
    "\n",
    "openai.organization = \"org-0aNPFamIccXR5GLzwT5O1kCO\"\n",
    "openai.api_key = os.getenv(\"OPENAI_API_KEY\")\n",
    "\n",
    "output = openai.Edit.create(\n",
    "  model=\"text-davinci-edit-001\",\n",
    "  input=\"I foster a fun, driven environment where each technical writer is empowered to have ownership of their writing projects. I mentor skilled technical writers, from novice to seniors, through all stages of the writing process. I use my Solution Architect knowledge to review the accuracy of fundamentals to guru-level cloud certifications including AWS, Google, and Azure content. I create tools using Python and APIs to extract decision-making statistics used by our Project Management team. And, as we continually push out new technical resources day by day, I'm also able to orchestrate divisional sharing of best practices. I'm also always ready to jump on challenges of wide influence, taking advantage of opportunities to blend my tech savvy knowledge with my soft skills to create and refine efficient departmental processes.\",\n",
    "  instruction=\"Rewrite this paragraph using third person, using the name Echo Diaz. Put this into relevant paragraph form.\"\n",
    ")\n",
    "\n",
    "print(output[\"choices\"][0][\"text\"])"
   ]
  },
  {
   "attachments": {},
   "cell_type": "markdown",
   "metadata": {},
   "source": [
    "### I love challenging the status-quo!\n",
    "\n",
    "Echo moulds companies that develop quality, driven environments by defining process standards and inspiring each technical writer to have autonomy over their writing projects.\n",
    "\n",
    "Where did I gain these skills? As a strong leader who is resilient, I grew a team of thirteen technical writers to help strike a balance between an organization's strategy, our content strategy needs, and the needs of my diverse team members'. I mentored my team on the nuances of each AWS, Azure, Google service; the details seen in an exam, how to add to their own success.\n",
    "\n",
    "I created tools using Python and APIs to extract decision-making statistics used by our Project Management team. And, as we continually push out new technical courses day by day, I motivated my team in reaching our deadlines by conveying the importance of their role and prioritizing our tasks. \n",
    "\n",
    "I like to lead by example you'll often see me jumping on challenges of wide influence, taking advantage of opportunities to blend my tech savvy knowledge with my soft skills to create and refine efficient departmental processes."
   ]
  },
  {
   "cell_type": "code",
   "execution_count": 36,
   "metadata": {},
   "outputs": [
    {
     "name": "stdout",
     "output_type": "stream",
     "text": [
      "I think motivating another team is much more difficult that doing the work itself. This is why I’m going to answer this question with how I motivate my team as well as how I motivate myself and fave built my estimation habit if you will.\n",
      "\n",
      "First off let’s look at one very common pitfall: the “Only if you told me..” kind of statements. There is nothing more demotivating than to hear these 3 words right? So let’s not blame anyone but simply find answers to avoid more problems.\n",
      "\n",
      "* ✅ How to avoid this?\n",
      ">First, ask about them. Head over to your colleagues. Ask about their estimates. If you believe that the estimates don’t match your own try estimating them in hours and let them know about it. It’s important to lead here, it shows that you care.\n",
      "\n",
      "* ✅ Communicate\n",
      ">If you feel that it’s on the edge and that you failed somewhere, e.g. overmilestone yourself here assuming there will be some time for waste, then tell them about it. The issue is not theirs. It’s everybody’s because you got underestimated as well. So by communicating and taking responsibility you set a good example as well. Communicate and do it in a very open way.\n",
      "\n",
      "* ✅ Show that you’re one of them\n",
      ">If a fellow colleague has flat out too much on his plate then you should avoid the “..Only if you told me..” phrase. Show that you care and that you’re willing to help. Help may not necessarily be to do more yourself, it may also be that you take some of his tasks as well. Having an open discusion/asking about their estimates upfront then e.g. taking one of their tasks is going to be highly acknowledged\n",
      "\n",
      "In the end, being an open and caring team player is what it’s all about.\n",
      "\n"
     ]
    }
   ],
   "source": [
    "import os\n",
    "import openai\n",
    "\n",
    "\n",
    "openai.organization = \"org-0aNPFamIccXR5GLzwT5O1kCO\"\n",
    "openai.api_key = os.getenv(\"OPENAI_API_KEY\")\n",
    "\n",
    "output = openai.Edit.create(\n",
    "  model=\"text-davinci-edit-001\",\n",
    "  input=\"\",\n",
    "  instruction=\"motivate a team to keep their deadlines\"\n",
    ")\n",
    "\n",
    "print(output[\"choices\"][0][\"text\"])"
   ]
  }
 ],
 "metadata": {
  "kernelspec": {
   "display_name": "OpenAPI",
   "language": "python",
   "name": "python3"
  },
  "language_info": {
   "codemirror_mode": {
    "name": "ipython",
    "version": 3
   },
   "file_extension": ".py",
   "mimetype": "text/x-python",
   "name": "python",
   "nbconvert_exporter": "python",
   "pygments_lexer": "ipython3",
   "version": "3.10.9"
  },
  "orig_nbformat": 4,
  "vscode": {
   "interpreter": {
    "hash": "33284dc24c8d1f52a9a5353d676a36b183f8019e094e9781198f7fcab027ec28"
   }
  }
 },
 "nbformat": 4,
 "nbformat_minor": 2
}
